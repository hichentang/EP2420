{
 "cells": [
  {
   "cell_type": "code",
   "execution_count": 1,
   "metadata": {},
   "outputs": [
    {
     "name": "stderr",
     "output_type": "stream",
     "text": [
      "Using TensorFlow backend.\n"
     ]
    }
   ],
   "source": [
    "import numpy as np\n",
    "import pandas as pd\n",
    "from sklearn.preprocessing import normalize, scale, minmax_scale\n",
    "from sklearn.model_selection import train_test_split\n",
    "from sklearn import linear_model\n",
    "from sklearn.ensemble import RandomForestRegressor\n",
    "from keras.models import Sequential\n",
    "from keras.layers import Dense\n",
    "from keras.optimizers import Adam\n",
    "from sklearn.model_selection import RandomizedSearchCV\n",
    "from pandas.plotting import register_matplotlib_converters\n",
    "import matplotlib.pyplot as plt\n",
    "from sklearn.preprocessing import KBinsDiscretizer\n",
    "from sklearn.ensemble import RandomForestClassifier\n",
    "from sklearn.model_selection import GridSearchCV\n",
    "from scipy.stats import gaussian_kde\n",
    "from sklearn.metrics import mean_absolute_error\n",
    "from sklearn.ensemble import ExtraTreesClassifier\n",
    "from sklearn.feature_selection import SelectFromModel"
   ]
  },
  {
   "cell_type": "code",
   "execution_count": 2,
   "metadata": {},
   "outputs": [
    {
     "ename": "SyntaxError",
     "evalue": "unexpected EOF while parsing (<ipython-input-2-430d5fd41972>, line 10)",
     "output_type": "error",
     "traceback": [
      "\u001b[0;36m  File \u001b[0;32m\"<ipython-input-2-430d5fd41972>\"\u001b[0;36m, line \u001b[0;32m10\u001b[0m\n\u001b[0;31m    \u001b[0m\n\u001b[0m    ^\u001b[0m\n\u001b[0;31mSyntaxError\u001b[0m\u001b[0;31m:\u001b[0m unexpected EOF while parsing\n"
     ]
    }
   ],
   "source": [
    "def create_data(data_X, data_Y, number_X, number_Y):\n",
    "    X_shape = data_X.shape\n",
    "    number_measurements = X_shape[0] - (number_X + number_Y -1)\n",
    "    temp_X = []\n",
    "    #\n",
    "    # for each dataframe, we should delete number_X -1 entries\n",
    "    # create the delete lish\n",
    "    for i in range(number_X):\n",
    "    #try    "
   ]
  },
  {
   "cell_type": "code",
   "execution_count": 7,
   "metadata": {},
   "outputs": [],
   "source": [
    "# input data should be np array, only outliers in X will be considered\n",
    "def OutlierRemoval(InputX, InputY, Threhold):\n",
    "    # combine X and Y\n",
    "    combine_data = np.c_[InputX, InputY]\n",
    "    \n",
    "    # remove outlier in X\n",
    "    removed_data = combine_data[np.all(np.abs(np.delete(combine_data, -1, 1)) < Threhold ,axis=1)]\n",
    "    \n",
    "    # spilit removed_data into X and Y\n",
    "    removed_x = np.delete(removed_data, -1, 1)\n",
    "    removed_y = removed_data[:,[-1]]\n",
    "    \n",
    "    return removed_x, removed_y\n",
    "\n",
    "# All input data should be np array\n",
    "def CalculateNMAE(PredictData, TestData):\n",
    "    return mean_absolute_error(PredictData, TestData)/TestData.mean()\n",
    "\n",
    "\n",
    "# feature selection, only return X since we don't change Y\n",
    "def TreeBasedSelection(InputX, InputY, FeatureNumber):\n",
    "    # create and fit selector\n",
    "    clf = ExtraTreesClassifier()\n",
    "    clf = clf.fit(InputX, InputY)\n",
    "    \n",
    "    # only number of sorted features will be selected, and we disable threshold\n",
    "    model = SelectFromModel(clf, prefit=Truemax_features = FeatureNumber, threshold=-np.inf)\n",
    "    OutputX = model.transform(InputX)\n",
    "    return OutputX"
   ]
  },
  {
   "cell_type": "code",
   "execution_count": null,
   "metadata": {},
   "outputs": [],
   "source": [
    "'''\n",
    "To defince the dataset we use\n",
    "'''\n",
    "# fileName_X = './VoD_Periodic_2017/X.csv'\n",
    "# fileName_Y = './VoD_Periodic_2017/Y.csv'\n",
    "fileName_X = './KV_flash/X.csv'\n",
    "fileName_Y = './KV_flash/Y.csv'\n",
    "# fileName_X = './X.csv'\n",
    "# fileName_Y = './Y.csv'\n",
    "# fileName_X = './VoD_flash/X.csv'\n",
    "# fileName_Y = './VoD_flash/Y.csv'"
   ]
  },
  {
   "cell_type": "code",
   "execution_count": null,
   "metadata": {},
   "outputs": [],
   "source": [
    "'''\n",
    "Read data from csv file.\n",
    "X and Y are raw data\n",
    "Y_notime and Y_notime are data without timestamp\n",
    "X_features are a list which contains the name of all of the features in X\n",
    "'''\n",
    "X = pd.read_csv(fileName_X)\n",
    "Y = pd.read_csv(fileName_Y)\n",
    "X_notime = X.drop('TimeStamp',axis=1)\n",
    "Y_notime = Y.drop('TimeStamp',axis=1)\n",
    "timeIndex_x=pd.to_datetime(X['TimeStamp'])\n",
    "timeIndex_y=pd.to_datetime(Y['TimeStamp'])\n",
    "X.index=timeIndex_x\n",
    "Y.index=timeIndex_y\n",
    "X_notime.index = timeIndex_x\n",
    "Y_notime.index = timeIndex_y\n",
    "X_features = [col for col in X_notime]\n",
    "np.random.seed(0)"
   ]
  },
  {
   "cell_type": "code",
   "execution_count": null,
   "metadata": {},
   "outputs": [],
   "source": [
    "'''\n",
    "Data Information\n",
    "'''\n",
    "\n",
    "X_shape = X_notime.shape\n",
    "print(\"X_shape is \" + str(X_shape))"
   ]
  },
  {
   "cell_type": "code",
   "execution_count": null,
   "metadata": {},
   "outputs": [],
   "source": []
  }
 ],
 "metadata": {
  "kernelspec": {
   "display_name": "Python 3",
   "language": "python",
   "name": "python3"
  },
  "language_info": {
   "codemirror_mode": {
    "name": "ipython",
    "version": 3
   },
   "file_extension": ".py",
   "mimetype": "text/x-python",
   "name": "python",
   "nbconvert_exporter": "python",
   "pygments_lexer": "ipython3",
   "version": "3.7.3"
  }
 },
 "nbformat": 4,
 "nbformat_minor": 2
}
